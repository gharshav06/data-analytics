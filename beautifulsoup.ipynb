{
  "cells": [
    {
      "cell_type": "code",
      "execution_count": null,
      "metadata": {
        "colab": {
          "base_uri": "https://localhost:8080/",
          "height": 211
        },
        "id": "zvwsC5MLhuod",
        "outputId": "50bfd579-556a-4be5-942a-c62287e64fd0"
      },
      "outputs": [
        {
          "ename": "NameError",
          "evalue": "name 'soup' is not defined",
          "output_type": "error",
          "traceback": [
            "\u001b[0;31m---------------------------------------------------------------------------\u001b[0m",
            "\u001b[0;31mNameError\u001b[0m                                 Traceback (most recent call last)",
            "\u001b[0;32m<ipython-input-2-4f3c08f8fb27>\u001b[0m in \u001b[0;36m<cell line: 0>\u001b[0;34m()\u001b[0m\n\u001b[0;32m----> 1\u001b[0;31m \u001b[0mfirstfind\u001b[0m \u001b[0;34m=\u001b[0m \u001b[0msoup\u001b[0m\u001b[0;34m.\u001b[0m\u001b[0mfind\u001b[0m\u001b[0;34m(\u001b[0m\u001b[0;34m'th'\u001b[0m\u001b[0;34m)\u001b[0m\u001b[0;34m\u001b[0m\u001b[0;34m\u001b[0m\u001b[0m\n\u001b[0m\u001b[1;32m      2\u001b[0m \u001b[0mprint\u001b[0m\u001b[0;34m(\u001b[0m\u001b[0mfirstfind\u001b[0m\u001b[0;34m)\u001b[0m\u001b[0;34m\u001b[0m\u001b[0;34m\u001b[0m\u001b[0m\n\u001b[1;32m      3\u001b[0m \u001b[0mprint\u001b[0m\u001b[0;34m(\u001b[0m\u001b[0mtype\u001b[0m\u001b[0;34m(\u001b[0m\u001b[0mfirstfind\u001b[0m\u001b[0;34m)\u001b[0m\u001b[0;34m)\u001b[0m\u001b[0;34m\u001b[0m\u001b[0;34m\u001b[0m\u001b[0m\n\u001b[1;32m      4\u001b[0m \u001b[0mprint\u001b[0m\u001b[0;34m(\u001b[0m\u001b[0mfirstfind\u001b[0m\u001b[0;34m.\u001b[0m\u001b[0mtext\u001b[0m\u001b[0;34m)\u001b[0m\u001b[0;34m\u001b[0m\u001b[0;34m\u001b[0m\u001b[0m\n\u001b[1;32m      5\u001b[0m \u001b[0mprint\u001b[0m\u001b[0;34m(\u001b[0m\u001b[0mtype\u001b[0m\u001b[0;34m(\u001b[0m\u001b[0mfirstfind\u001b[0m\u001b[0;34m.\u001b[0m\u001b[0mtext\u001b[0m\u001b[0;34m)\u001b[0m\u001b[0;34m)\u001b[0m\u001b[0;34m\u001b[0m\u001b[0;34m\u001b[0m\u001b[0m\n",
            "\u001b[0;31mNameError\u001b[0m: name 'soup' is not defined"
          ]
        }
      ],
      "source": [
        "firstfind = soup.find('th')\n",
        "print(firstfind)\n",
        "print(type(firstfind))\n",
        "print(firstfind.text)\n",
        "print(type(firstfind.text))"
      ]
    },
    {
      "cell_type": "code",
      "execution_count": null,
      "metadata": {
        "colab": {
          "background_save": true
        },
        "id": "hsv4o_vnix5e"
      },
      "outputs": [],
      "source": [
        "html_doc = \"\"\"\n",
        "<html>\n",
        "<head><title>World's Population</title></head>\n",
        "<body>\n",
        "    <h1>Main Heading</h1>\n",
        "    <p class=\"xyz\">This is a paragraph.</p>\n",
        "    <p class=\"content\">Another paragraph with <a href=\"https://example.com\">a link</a>.</p>\n",
        "\n",
        "    <div id=\"container\">\n",
        "        <ul>\n",
        "            <li class=\"item\">Item 1</li>\n",
        "            <li class=\"item\">Item 2</li>\n",
        "            <li class=\"item\">Item 3</li>\n",
        "        </ul>\n",
        "    </div>\n",
        "\n",
        "    <table>\n",
        "        <tr><th>Name</th><th>Age</th></tr>\n",
        "        <tr><td>Alice</td><td>25</td></tr>\n",
        "        <tr><td>Bob</td><td>30</td></tr>\n",
        "    </table>\n",
        "</body>\n",
        "</html>\n",
        "\"\"\"\n"
      ]
    }
  ],
  "metadata": {
    "accelerator": "TPU",
    "colab": {
      "gpuType": "V28",
      "provenance": []
    },
    "kernelspec": {
      "display_name": "Python 3",
      "name": "python3"
    },
    "language_info": {
      "name": "python"
    }
  },
  "nbformat": 4,
  "nbformat_minor": 0
}